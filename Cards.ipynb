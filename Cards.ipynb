{
 "cells": [
  {
   "cell_type": "code",
   "execution_count": 29,
   "metadata": {},
   "outputs": [
    {
     "name": "stdout",
     "output_type": "stream",
     "text": [
      "(8, 'of', 'Diamonds')\n",
      "('Ace', 'of', 'Clubs')\n",
      "(10, 'of', 'Diamonds')\n",
      "(2, 'of', 'Spades')\n",
      "(6, 'of', 'Diamonds')\n",
      "Card available\n"
     ]
    }
   ],
   "source": [
    "import random\n",
    "\n",
    "suits = [\"Clubs\", \"Spades\",\"Hearts\",\"Diamonds\"] # List is with the square brackets\n",
    "faces = [\"Jack\", \"Queen\",\"King\",\"Ace\"]\n",
    "numbered = [2,3,4,5,6,7,8,9,10]    \n",
    "\n",
    "\n",
    "deck = set()   \n",
    "type(deck)\n",
    "len(deck)\n",
    "for suit in suits:\n",
    "    for card in faces+ numbered:\n",
    "        deck.add((card,\"of\",suit))\n",
    "\n",
    "def draw():\n",
    "    the_suit = random.choice(suits)\n",
    "    the_card = random.choice(faces+ numbered)\n",
    "    return the_card,\"of\",the_suit \n",
    "\n",
    "for _ in range(5):\n",
    "    print(draw())\n",
    "\n",
    "card = (\"Ace\",\"of\",\"Hearts\")\n",
    "if card in deck:\n",
    "    print(\"Card available\")\n",
    "else:\n",
    "    print(\"Not Here\")\n",
    " \n",
    "\n",
    "                             \n",
    "     "
   ]
  },
  {
   "cell_type": "code",
   "execution_count": 26,
   "metadata": {},
   "outputs": [
    {
     "data": {
      "text/plain": [
       "['Clubs', 'Spades', 'Hearts', 'Diamonds']"
      ]
     },
     "execution_count": 26,
     "metadata": {},
     "output_type": "execute_result"
    }
   ],
   "source": [
    "suits"
   ]
  },
  {
   "cell_type": "code",
   "execution_count": 23,
   "metadata": {},
   "outputs": [
    {
     "data": {
      "text/plain": [
       "['Jack', 'Queeen', 'King', 'Ace']"
      ]
     },
     "execution_count": 23,
     "metadata": {},
     "output_type": "execute_result"
    }
   ],
   "source": [
    "faces"
   ]
  },
  {
   "cell_type": "code",
   "execution_count": 24,
   "metadata": {},
   "outputs": [
    {
     "data": {
      "text/plain": [
       "[2, 3, 4, 5, 6, 7, 8, 9, 10]"
      ]
     },
     "execution_count": 24,
     "metadata": {},
     "output_type": "execute_result"
    }
   ],
   "source": [
    "numbered"
   ]
  },
  {
   "cell_type": "code",
   "execution_count": 45,
   "metadata": {},
   "outputs": [
    {
     "name": "stdout",
     "output_type": "stream",
     "text": [
      "Help on method-wrapper:\n",
      "\n",
      "__len__() unbound builtins.set method\n",
      "    Return len(self).\n",
      "\n"
     ]
    }
   ],
   "source": [
    "help(deck.__len__)"
   ]
  },
  {
   "cell_type": "code",
   "execution_count": 34,
   "metadata": {},
   "outputs": [],
   "source": [
    "import this         "
   ]
  },
  {
   "cell_type": "code",
   "execution_count": 31,
   "metadata": {},
   "outputs": [],
   "source": [
    "import antigravity"
   ]
  }
 ],
 "metadata": {
  "kernelspec": {
   "display_name": "Python 3",
   "language": "python",
   "name": "python3"
  },
  "language_info": {
   "codemirror_mode": {
    "name": "ipython",
    "version": 3
   },
   "file_extension": ".py",
   "mimetype": "text/x-python",
   "name": "python",
   "nbconvert_exporter": "python",
   "pygments_lexer": "ipython3",
   "version": "3.13.1"
  }
 },
 "nbformat": 4,
 "nbformat_minor": 2
}
