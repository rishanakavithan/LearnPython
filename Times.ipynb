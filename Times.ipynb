{
 "cells": [
  {
   "cell_type": "code",
   "execution_count": 8,
   "metadata": {},
   "outputs": [
    {
     "data": {
      "text/plain": [
       "('Darius', '13', '100m', 'Fly')"
      ]
     },
     "execution_count": 8,
     "metadata": {},
     "output_type": "execute_result"
    }
   ],
   "source": [
    "FN = \"Darius-13-100m-Fly.txt\"\n",
    "FOLDER = \"swimdata/\"\n",
    "\n",
    "swimmer,age,distance,stroke = FN.removesuffix(\".txt\").split(\"-\")\n",
    "with open(FOLDER + FN) as file:\n",
    "    lines = file.readlines()\n",
    "    times = lines[0].strip().split(\",\")\n",
    "\n",
    "    converts=[]\n",
    "    for t in times:\n",
    "        minutes, rest = t.split(\":\")\n",
    "        seconds, hundreadths = rest.split(\".\")\n",
    "        converts.append((int(minutes)*60*100)+(int(seconds)*100)+int(hundreadths))\n",
    "\n",
    "\n",
    "import statistics\n",
    "\n",
    "average =statistics.mean(converts)\n",
    "mins_secs,hundreadths = str(round(average /100,2)).split(\".\")\n",
    "mins_secs = int(mins_secs)\n",
    "minutes = mins_secs // 60\n",
    "seconds = mins_secs -minutes*60\n",
    "average =str(minutes)+\":\"+str(seconds)+\":\"+str(hundreadths)\n",
    "\n",
    "swimmer, age, distance, stroke\n",
    "\n"
   ]
  },
  {
   "cell_type": "code",
   "execution_count": 9,
   "metadata": {},
   "outputs": [
    {
     "data": {
      "text/plain": [
       "['1:27.95', '1:21.07', '1:30.96', '1:23.22', '1:27.95', '1:28.30']"
      ]
     },
     "execution_count": 9,
     "metadata": {},
     "output_type": "execute_result"
    }
   ],
   "source": [
    "times"
   ]
  },
  {
   "cell_type": "code",
   "execution_count": 10,
   "metadata": {},
   "outputs": [
    {
     "data": {
      "text/plain": [
       "'1:26:58'"
      ]
     },
     "execution_count": 10,
     "metadata": {},
     "output_type": "execute_result"
    }
   ],
   "source": [
    "average"
   ]
  }
 ],
 "metadata": {
  "kernelspec": {
   "display_name": "Python 3",
   "language": "python",
   "name": "python3"
  },
  "language_info": {
   "codemirror_mode": {
    "name": "ipython",
    "version": 3
   },
   "file_extension": ".py",
   "mimetype": "text/x-python",
   "name": "python",
   "nbconvert_exporter": "python",
   "pygments_lexer": "ipython3",
   "version": "3.13.1"
  }
 },
 "nbformat": 4,
 "nbformat_minor": 2
}
